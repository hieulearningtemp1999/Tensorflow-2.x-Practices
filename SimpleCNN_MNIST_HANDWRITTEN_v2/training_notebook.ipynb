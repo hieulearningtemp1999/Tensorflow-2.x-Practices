{
 "cells": [
  {
   "cell_type": "code",
   "execution_count": 1,
   "id": "2b0b6a9f",
   "metadata": {},
   "outputs": [],
   "source": [
    "import tensorflow as tf\n",
    "from tensorflow.keras.datasets import mnist\n",
    "import numpy as np\n",
    "from tqdm import tqdm\n",
    "from model import model\n",
    "from weights import Weights"
   ]
  },
  {
   "cell_type": "markdown",
   "id": "832d6a58",
   "metadata": {},
   "source": [
    "### Get mnist dataset"
   ]
  },
  {
   "cell_type": "code",
   "execution_count": 2,
   "id": "f7af06fd",
   "metadata": {},
   "outputs": [],
   "source": [
    "(x_train,y_train),(x_test,y_test) = mnist.load_data()\n",
    "x_train = np.array(x_train,dtype=np.float32)\n",
    "x_test = np.array(x_test,dtype=np.float32)\n"
   ]
  },
  {
   "cell_type": "markdown",
   "id": "b575c043",
   "metadata": {},
   "source": [
    "## Normalize ,reshape input and one-hot coding label"
   ]
  },
  {
   "cell_type": "code",
   "execution_count": 3,
   "id": "2b0c788b",
   "metadata": {},
   "outputs": [],
   "source": [
    "x_train = x_train/255.\n",
    "x_test = x_test/255.\n",
    "x_train = x_train.reshape(x_train.shape[0],x_train.shape[1],x_train.shape[2],1)\n",
    "x_test = x_test.reshape(x_test.shape[0],x_test.shape[1],x_test.shape[2],1)\n",
    "y_train = tf.keras.utils.to_categorical(y_train,num_classes = 10)\n",
    "y_test = tf.keras.utils.to_categorical(y_test,num_classes = 10)"
   ]
  },
  {
   "cell_type": "markdown",
   "id": "99d8861c",
   "metadata": {},
   "source": [
    "## Get dataset with batchsize"
   ]
  },
  {
   "cell_type": "code",
   "execution_count": 4,
   "id": "fd58befd",
   "metadata": {},
   "outputs": [],
   "source": [
    "batch_size = 64\n",
    "train_dataset = tf.data.Dataset.from_tensor_slices((x_train,y_train))\n",
    "train_dataset = train_dataset.batch(batch_size)\n",
    "test_dataset = tf.data.Dataset.from_tensor_slices((x_test,y_test))\n",
    "test_dataset = test_dataset.batch(batch_size)"
   ]
  },
  {
   "cell_type": "markdown",
   "id": "a2e89168",
   "metadata": {},
   "source": [
    "## Define weight_configs , initializers and get trainable_params"
   ]
  },
  {
   "cell_type": "code",
   "execution_count": 5,
   "id": "2d743811",
   "metadata": {},
   "outputs": [],
   "source": [
    "weight_configs = [\n",
    "        [5,5,1,32],\n",
    "        [3,3,32,64],\n",
    "        [1600,1024],\n",
    "        [1024,10]\n",
    "]\n",
    "init_method = tf.initializers.HeNormal()\n",
    "w = Weights(weight_configs,init_method)\n",
    "trainable_params = w.get_trainable_params()"
   ]
  },
  {
   "cell_type": "markdown",
   "id": "d873d752",
   "metadata": {},
   "source": [
    "### Define loss and optimizer"
   ]
  },
  {
   "cell_type": "code",
   "execution_count": 6,
   "id": "cc171786",
   "metadata": {},
   "outputs": [],
   "source": [
    "learning_rate = 0.001\n",
    "def loss(pred,target):\n",
    "    return tf.reduce_mean(tf.losses.categorical_crossentropy(target,pred))\n",
    "\n",
    "optimizer = tf.optimizers.Adam(learning_rate)"
   ]
  },
  {
   "cell_type": "markdown",
   "id": "bb5ed430",
   "metadata": {},
   "source": [
    "### Define train_step and test step function"
   ]
  },
  {
   "cell_type": "code",
   "execution_count": 7,
   "id": "30d5de5b",
   "metadata": {},
   "outputs": [],
   "source": [
    "@tf.function\n",
    "def train_step(data,target):\n",
    "    with tf.GradientTape() as tape:\n",
    "        pred = model(data,trainable_params)\n",
    "        train_loss = loss(pred,target)\n",
    "    grads = tape.gradient(train_loss,trainable_params)\n",
    "    optimizer.apply_gradients(zip(grads,trainable_params))\n",
    "    pred_label = tf.argmax(pred,axis=1)\n",
    "    target_label = tf.argmax(target,axis=1)\n",
    "    check_equal = (tf.cast(pred_label,tf.int64)) == (tf.cast(target_label,tf.int64))\n",
    "    correct = tf.reduce_sum(tf.cast(check_equal,tf.float32))\n",
    "    return train_loss,correct\n",
    "\n",
    "@tf.function\n",
    "def test_step(data,target):\n",
    "    pred = model(data,trainable_params)\n",
    "    test_loss = loss(pred,target)\n",
    "    pred_label = tf.argmax(pred,axis=1)\n",
    "    target_label = tf.argmax(target,axis=1)\n",
    "    check_equal = (tf.cast(pred_label,tf.int64)) == (tf.cast(target_label,tf.int64))\n",
    "    correct = tf.reduce_sum(tf.cast(check_equal,tf.float32))\n",
    "    return test_loss,correct"
   ]
  },
  {
   "cell_type": "markdown",
   "id": "7b1d0535",
   "metadata": {},
   "source": [
    "## Train and test"
   ]
  },
  {
   "cell_type": "code",
   "execution_count": 8,
   "id": "e5a0d54e",
   "metadata": {},
   "outputs": [
    {
     "name": "stderr",
     "output_type": "stream",
     "text": [
      "100%|████████████████████████████████████████████████████████████████████████████████| 938/938 [01:15<00:00, 12.47it/s]\n",
      "100%|████████████████████████████████████████████████████████████████████████████████| 157/157 [00:03<00:00, 44.89it/s]\n",
      "  0%|                                                                                          | 0/938 [00:00<?, ?it/s]"
     ]
    },
    {
     "name": "stdout",
     "output_type": "stream",
     "text": [
      "tf.Tensor(9771.0, shape=(), dtype=float32) tf.Tensor(57724.0, shape=(), dtype=float32)\n",
      "EPOCH : 1/10, train_loss : 0.13088291883468628,train_acc : 96.2066650390625, test_loss :0.07201249897480011, test_acc : 97.70999908447266\n"
     ]
    },
    {
     "name": "stderr",
     "output_type": "stream",
     "text": [
      "100%|████████████████████████████████████████████████████████████████████████████████| 938/938 [01:15<00:00, 12.38it/s]\n",
      "100%|████████████████████████████████████████████████████████████████████████████████| 157/157 [00:03<00:00, 39.89it/s]\n",
      "  0%|                                                                                          | 0/938 [00:00<?, ?it/s]"
     ]
    },
    {
     "name": "stdout",
     "output_type": "stream",
     "text": [
      "tf.Tensor(9872.0, shape=(), dtype=float32) tf.Tensor(59197.0, shape=(), dtype=float32)\n",
      "EPOCH : 2/10, train_loss : 0.042802970856428146,train_acc : 98.66166687011719, test_loss :0.036214008927345276, test_acc : 98.72000122070312\n"
     ]
    },
    {
     "name": "stderr",
     "output_type": "stream",
     "text": [
      "100%|████████████████████████████████████████████████████████████████████████████████| 938/938 [01:13<00:00, 12.73it/s]\n",
      "100%|████████████████████████████████████████████████████████████████████████████████| 157/157 [00:03<00:00, 47.67it/s]\n",
      "  0%|                                                                                          | 0/938 [00:00<?, ?it/s]"
     ]
    },
    {
     "name": "stdout",
     "output_type": "stream",
     "text": [
      "tf.Tensor(9893.0, shape=(), dtype=float32) tf.Tensor(59481.0, shape=(), dtype=float32)\n",
      "EPOCH : 3/10, train_loss : 0.028163446113467216,train_acc : 99.13500213623047, test_loss :0.03260624781250954, test_acc : 98.93000030517578\n"
     ]
    },
    {
     "name": "stderr",
     "output_type": "stream",
     "text": [
      "100%|████████████████████████████████████████████████████████████████████████████████| 938/938 [01:15<00:00, 12.45it/s]\n",
      "100%|████████████████████████████████████████████████████████████████████████████████| 157/157 [00:03<00:00, 44.69it/s]\n",
      "  0%|                                                                                          | 0/938 [00:00<?, ?it/s]"
     ]
    },
    {
     "name": "stdout",
     "output_type": "stream",
     "text": [
      "tf.Tensor(9894.0, shape=(), dtype=float32) tf.Tensor(59599.0, shape=(), dtype=float32)\n",
      "EPOCH : 4/10, train_loss : 0.020761532709002495,train_acc : 99.3316650390625, test_loss :0.03458651527762413, test_acc : 98.94000244140625\n"
     ]
    },
    {
     "name": "stderr",
     "output_type": "stream",
     "text": [
      "100%|████████████████████████████████████████████████████████████████████████████████| 938/938 [01:18<00:00, 11.97it/s]\n",
      "100%|████████████████████████████████████████████████████████████████████████████████| 157/157 [00:03<00:00, 45.50it/s]\n",
      "  0%|                                                                                          | 0/938 [00:00<?, ?it/s]"
     ]
    },
    {
     "name": "stdout",
     "output_type": "stream",
     "text": [
      "tf.Tensor(9891.0, shape=(), dtype=float32) tf.Tensor(59674.0, shape=(), dtype=float32)\n",
      "EPOCH : 5/10, train_loss : 0.017063552513718605,train_acc : 99.4566650390625, test_loss :0.04115865007042885, test_acc : 98.90999603271484\n"
     ]
    },
    {
     "name": "stderr",
     "output_type": "stream",
     "text": [
      "100%|████████████████████████████████████████████████████████████████████████████████| 938/938 [01:13<00:00, 12.82it/s]\n",
      "100%|████████████████████████████████████████████████████████████████████████████████| 157/157 [00:03<00:00, 48.36it/s]\n",
      "  0%|                                                                                          | 0/938 [00:00<?, ?it/s]"
     ]
    },
    {
     "name": "stdout",
     "output_type": "stream",
     "text": [
      "tf.Tensor(9900.0, shape=(), dtype=float32) tf.Tensor(59707.0, shape=(), dtype=float32)\n",
      "EPOCH : 6/10, train_loss : 0.014477337710559368,train_acc : 99.51166534423828, test_loss :0.037884801626205444, test_acc : 99.0\n"
     ]
    },
    {
     "name": "stderr",
     "output_type": "stream",
     "text": [
      "100%|████████████████████████████████████████████████████████████████████████████████| 938/938 [01:11<00:00, 13.19it/s]\n",
      "100%|████████████████████████████████████████████████████████████████████████████████| 157/157 [00:03<00:00, 47.90it/s]\n",
      "  0%|                                                                                          | 0/938 [00:00<?, ?it/s]"
     ]
    },
    {
     "name": "stdout",
     "output_type": "stream",
     "text": [
      "tf.Tensor(9906.0, shape=(), dtype=float32) tf.Tensor(59731.0, shape=(), dtype=float32)\n",
      "EPOCH : 7/10, train_loss : 0.013900073245167732,train_acc : 99.55166625976562, test_loss :0.04029586538672447, test_acc : 99.05999755859375\n"
     ]
    },
    {
     "name": "stderr",
     "output_type": "stream",
     "text": [
      "100%|████████████████████████████████████████████████████████████████████████████████| 938/938 [01:11<00:00, 13.16it/s]\n",
      "100%|████████████████████████████████████████████████████████████████████████████████| 157/157 [00:03<00:00, 48.36it/s]\n",
      "  0%|                                                                                          | 0/938 [00:00<?, ?it/s]"
     ]
    },
    {
     "name": "stdout",
     "output_type": "stream",
     "text": [
      "tf.Tensor(9898.0, shape=(), dtype=float32) tf.Tensor(59804.0, shape=(), dtype=float32)\n",
      "EPOCH : 8/10, train_loss : 0.009947559796273708,train_acc : 99.67333221435547, test_loss :0.045926161110401154, test_acc : 98.97999572753906\n"
     ]
    },
    {
     "name": "stderr",
     "output_type": "stream",
     "text": [
      "100%|████████████████████████████████████████████████████████████████████████████████| 938/938 [01:24<00:00, 11.10it/s]\n",
      "100%|████████████████████████████████████████████████████████████████████████████████| 157/157 [00:03<00:00, 43.88it/s]\n",
      "  0%|                                                                                          | 0/938 [00:00<?, ?it/s]"
     ]
    },
    {
     "name": "stdout",
     "output_type": "stream",
     "text": [
      "tf.Tensor(9912.0, shape=(), dtype=float32) tf.Tensor(59778.0, shape=(), dtype=float32)\n",
      "EPOCH : 9/10, train_loss : 0.01039937324821949,train_acc : 99.62999725341797, test_loss :0.04023106396198273, test_acc : 99.1199951171875\n"
     ]
    },
    {
     "name": "stderr",
     "output_type": "stream",
     "text": [
      "100%|████████████████████████████████████████████████████████████████████████████████| 938/938 [01:15<00:00, 12.49it/s]\n",
      "100%|████████████████████████████████████████████████████████████████████████████████| 157/157 [00:03<00:00, 48.12it/s]\n"
     ]
    },
    {
     "name": "stdout",
     "output_type": "stream",
     "text": [
      "tf.Tensor(9890.0, shape=(), dtype=float32) tf.Tensor(59835.0, shape=(), dtype=float32)\n",
      "EPOCH : 10/10, train_loss : 0.009041407145559788,train_acc : 99.7249984741211, test_loss :0.04737474396824837, test_acc : 98.9000015258789\n"
     ]
    }
   ],
   "source": [
    "epochs = 10\n",
    "for epoch in range(epochs):\n",
    "    nums_train = 0 \n",
    "    nums_test = 0\n",
    "    train_corrects = 0 \n",
    "    test_corrects =0\n",
    "    train_losses = []\n",
    "    test_losses = []\n",
    "    for data,target in tqdm(train_dataset):\n",
    "        train_loss,correct = train_step(data,target)\n",
    "        nums_train += len(data)\n",
    "        train_corrects += correct\n",
    "        train_losses.append(train_loss)\n",
    "#         break\n",
    "    \n",
    "    for data,target in tqdm(test_dataset):\n",
    "        test_loss,correct = test_step(data,target)\n",
    "        nums_test += len(data)\n",
    "        test_corrects += correct\n",
    "        test_losses.append(test_loss)\n",
    "#         break\n",
    "    print(test_corrects,train_corrects)\n",
    "    print(\"EPOCH : {}/{}, train_loss : {},train_acc : {}, test_loss :{}, test_acc : {}\".format(epoch+1,epochs,sum(train_losses)/len(train_losses),train_corrects/nums_train*100.,sum(test_losses)/len(test_losses),test_corrects/nums_test*100.))\n",
    "    "
   ]
  },
  {
   "cell_type": "code",
   "execution_count": null,
   "id": "912142d1",
   "metadata": {},
   "outputs": [],
   "source": []
  }
 ],
 "metadata": {
  "kernelspec": {
   "display_name": "Python 3",
   "language": "python",
   "name": "python3"
  },
  "language_info": {
   "codemirror_mode": {
    "name": "ipython",
    "version": 3
   },
   "file_extension": ".py",
   "mimetype": "text/x-python",
   "name": "python",
   "nbconvert_exporter": "python",
   "pygments_lexer": "ipython3",
   "version": "3.8.8"
  }
 },
 "nbformat": 4,
 "nbformat_minor": 5
}
